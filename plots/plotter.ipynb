{
 "cells": [
  {
   "cell_type": "code",
   "execution_count": 4,
   "metadata": {},
   "outputs": [
    {
     "name": "stdout",
     "output_type": "stream",
     "text": [
      "          flops   bs  ov        time        cycles\n",
      "0  2.295736e+10   48   8   17.713634  3.365591e+10\n",
      "1  5.140791e+10   64  16   41.373052  7.860880e+10\n",
      "2  7.964702e+10   80  24   66.140907  1.256677e+11\n",
      "3  1.032156e+11   96  32   87.209051  1.656972e+11\n",
      "4  1.189286e+11  112  40  102.138877  1.940639e+11\n",
      "5  1.248751e+11  128  48  108.868762  2.068506e+11\n",
      "6  1.204179e+11  144  56  106.145468  2.016764e+11\n"
     ]
    }
   ],
   "source": [
    "import pandas as pd\n",
    "from bokeh.plotting import figure, show, curdoc\n",
    "\n",
    "\n",
    "x_block = pd.read_csv(\"../output/benchmark_blocksize_basic\",names=[\"flops\",\"bs\",\"ov\",\"time\",\"cycles\"],header=None)\n",
    "x_in = pd.read_csv(\"../output/benchmark_inputsize_basic\",names=[\"flops\",\"n\",\"time\",\"cycles\"],header=None)\n",
    "x_numb = pd.read_csv(\"../output/benchmark_numblocks\",names=[\"flops\",\"n\",\"time\",\"cycles\"],header=None)\n",
    "print(x_block)\n",
    "perf_block_cycles = x_block.flops / x_block.cycles\n",
    "perf_in_cycles = x_in.flops / x_in.cycles\n",
    "perf_numb_cycles = x_numb.flops / x_numb.cycles\n",
    "\n",
    "perf_block_time = x_block.flops / x_block.time\n",
    "perf_in_time = x_in.flops / x_in.time\n",
    "perf_numb_time = x_numb.flops / x_numb.time\n",
    "\n",
    "# here you can change the header in respect on which computer you ran the tests\n",
    "p = figure(title=\"AMD Ryzen 7 5800U @ 1.90GHz\", x_axis_label=\"block size\", y_axis_label=\"performance [F/C]\")\n",
    "p2 = figure(title=\"AMD Ryzen 7 5800U @ 1.90GHz\", x_axis_label=\"block size\", y_axis_label=\"performance [F/S]\")\n",
    "p3 = figure(title=\"AMD Ryzen 7 5800U @ 1.90GHz\", x_axis_label=\"Input size\", y_axis_label=\"performance [F/C]\")\n",
    "p4 = figure(title=\"AMD Ryzen 7 5800U @ 1.90GHz\", x_axis_label=\"Input size\", y_axis_label=\"performance [F/S]\")\n",
    "p5 = figure(title=\"AMD Ryzen 7 5800U @ 1.90GHz\", x_axis_label=\"Number of blocks\", y_axis_label=\"performance [F/C]\")\n",
    "p6 = figure(title=\"AMD Ryzen 7 5800U @ 1.90GHz\", x_axis_label=\"Number of blocks\", y_axis_label=\"performance [F/S]\")\n",
    "#p.yaxis.major_label_orientation = \"horizontal\"\n",
    "p.background_fill_color = \"gainsboro\"\n",
    "p2.background_fill_color = \"gainsboro\"\n",
    "p3.background_fill_color = \"gainsboro\"\n",
    "p4.background_fill_color = \"gainsboro\"\n",
    "p5.background_fill_color = \"gainsboro\"\n",
    "p6.background_fill_color = \"gainsboro\"\n",
    "\n",
    "curdoc().theme = 'caliber'\n",
    "\n",
    "# add line and circles to plots\n",
    "# for block size\n",
    "p.line(x_block.bs, x_block.time, legend_label=\"basic implementation\", line_width=2,color=\"peru\")\n",
    "p.circle(x_block.bs, x_block.time, legend_label=\"basic implementation\", line_width=1.5,color=\"peru\",size=10)\n",
    "p2.line(x_block.bs, perf_block_time, legend_label=\"basic implementation\", line_width=2,color=\"peru\")\n",
    "p2.circle(x_block.bs, perf_block_time, legend_label=\"basic implementation\", line_width=1.5,color=\"peru\",size=10)\n",
    "# for input size\n",
    "p3.line(x_in.n, x_in.time, legend_label=\"basic implementation\", line_width=2,color=\"peru\")\n",
    "p3.circle(x_in.n, x_in.time, legend_label=\"basic implementation\", line_width=1.5,color=\"peru\",size=10)\n",
    "p4.line(x_in.n, perf_in_time, legend_label=\"basic implementation\", line_width=2,color=\"peru\")\n",
    "p4.circle(x_in.n, perf_in_time, legend_label=\"basic implementation\", line_width=1.5,color=\"peru\",size=10)\n",
    "# for number of blocks\n",
    "p5.line(x_numb.n, x_numb.time, legend_label=\"basic implementation\", line_width=2,color=\"peru\")\n",
    "p5.circle(x_numb.n, x_numb.time, legend_label=\"basic implementation\", line_width=1.5,color=\"peru\",size=10)\n",
    "p6.line(x_numb.n, perf_numb_time, legend_label=\"basic implementation\", line_width=2,color=\"peru\")\n",
    "p6.circle(x_numb.n, perf_numb_time, legend_label=\"basic implementation\", line_width=1.5,color=\"peru\",size=10)\n",
    "# show the results with F/C\n",
    "show(p)\n",
    "#show(p3)\n",
    "#show(p5)\n",
    "\n",
    "# show the resuts with F/S\n",
    "#show(p2)\n",
    "#show(p4)\n",
    "#show(p6)\n"
   ]
  }
 ],
 "metadata": {
  "kernelspec": {
   "display_name": "Python 3",
   "language": "python",
   "name": "python3"
  },
  "language_info": {
   "codemirror_mode": {
    "name": "ipython",
    "version": 3
   },
   "file_extension": ".py",
   "mimetype": "text/x-python",
   "name": "python",
   "nbconvert_exporter": "python",
   "pygments_lexer": "ipython3",
   "version": "3.11.2"
  },
  "orig_nbformat": 4
 },
 "nbformat": 4,
 "nbformat_minor": 2
}
