{
 "cells": [
  {
   "cell_type": "code",
   "execution_count": 11,
   "metadata": {},
   "outputs": [],
   "source": [
    "import pandas as pd\n",
    "from bokeh.plotting import figure, show, curdoc\n",
    "x = pd.read_csv(\"../output/benchmark_blocksize\",names=[\"flops\",\"n\",\"time\",\"cycles\"],header=None)\n",
    "x2 = pd.read_csv(\"../output/benchmark_in\",names=[\"flops\",\"n\",\"time\",\"cycles\"],header=None)\n",
    "\n",
    "perf_cycles = x.flops / x.cycles\n",
    "perf_cycles2 = x2.flops / x2.cycles\n",
    "perf_time = x.flops / x.time\n",
    "#print(perf_cycles)\n",
    "# here you can change the header in respect on which computer you ran the tests\n",
    "p = figure(title=\"AMD Ryzen 7 5800U @ 1.90GHz\", x_axis_label=\"block size\", y_axis_label=\"performance [F/C]\")\n",
    "# for perf_time\n",
    "p2 = figure(title=\"AMD Ryzen 7 5800U @ 1.90GHz\", x_axis_label=\"Input size\", y_axis_label=\"performance [F/S]\")\n",
    "p3 = figure(title=\"AMD Ryzen 7 5800U @ 1.90GHz\", x_axis_label=\"Input size\", y_axis_label=\"performance [F/C]\")\n",
    "#p.yaxis.major_label_orientation = \"horizontal\"\n",
    "p.background_fill_color = \"gainsboro\"\n",
    "p2.background_fill_color = \"gainsboro\"\n",
    "p3.background_fill_color = \"gainsboro\"\n",
    "#curdoc().theme = 'light_minimal'\n",
    "curdoc().theme = 'caliber'\n",
    "#y_axis_type=\"log\"\n",
    "# add a line renderer with legend and line thickness\n",
    "p.line(x.n, perf_cycles, legend_label=\"basic implementation\", line_width=2,color=\"peru\")\n",
    "p.circle(x.n, perf_cycles, legend_label=\"basic implementation\", line_width=1.5,color=\"peru\",size=10)\n",
    "\n",
    "p2.line(x.n, perf_time, legend_label=\"basic implementation\", line_width=2,color=\"peru\")\n",
    "p2.circle(x.n, perf_time, legend_label=\"basic implementation\", line_width=1.5,color=\"peru\",size=10)\n",
    "\n",
    "p3.line(x2.n, perf_cycles2, legend_label=\"basic implementation\", line_width=2,color=\"peru\")\n",
    "p3.circle(x2.n, perf_cycles2, legend_label=\"basic implementation\", line_width=1.5,color=\"peru\",size=10)\n",
    "\n",
    "# show the results\n",
    "show(p)\n",
    "show(p3)"
   ]
  }
 ],
 "metadata": {
  "kernelspec": {
   "display_name": "Python 3",
   "language": "python",
   "name": "python3"
  },
  "language_info": {
   "codemirror_mode": {
    "name": "ipython",
    "version": 3
   },
   "file_extension": ".py",
   "mimetype": "text/x-python",
   "name": "python",
   "nbconvert_exporter": "python",
   "pygments_lexer": "ipython3",
   "version": "3.11.2"
  },
  "orig_nbformat": 4
 },
 "nbformat": 4,
 "nbformat_minor": 2
}
